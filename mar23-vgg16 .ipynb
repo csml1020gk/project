{
  "nbformat": 4,
  "nbformat_minor": 0,
  "metadata": {
    "colab": {
      "name": "mar23-vgg16.ipynb",
      "provenance": [],
      "collapsed_sections": [],
      "toc_visible": true
    },
    "kernelspec": {
      "display_name": "Python 3",
      "name": "python3"
    },
    "language_info": {
      "name": "python"
    },
    "accelerator": "GPU"
  },
  "cells": [
    {
      "cell_type": "code",
      "metadata": {
        "colab": {
          "base_uri": "https://localhost:8080/"
        },
        "id": "3AcD7xQEw_i1",
        "outputId": "3f8409da-d30f-4bd0-f46a-960266220964"
      },
      "source": [
        "from google.colab import drive\n",
        "drive.mount('/content/gdrive')\n",
        "#https://deeplizard.com/learn/video/oDHpqu52soI"
      ],
      "execution_count": 2,
      "outputs": [
        {
          "output_type": "stream",
          "text": [
            "Mounted at /content/gdrive\n"
          ],
          "name": "stdout"
        }
      ]
    },
    {
      "cell_type": "code",
      "metadata": {
        "id": "Hze5WQ1nxZzU"
      },
      "source": [
        "!cd /content/gdrive/MyDrive/kaggle"
      ],
      "execution_count": 3,
      "outputs": []
    },
    {
      "cell_type": "code",
      "metadata": {
        "colab": {
          "base_uri": "https://localhost:8080/"
        },
        "id": "MmqI-hXgxab8",
        "outputId": "9858637c-174b-4af9-de70-56e1e761b026"
      },
      "source": [
        "#!mkdir /content/gdrive/MyDrive/kaggle/data\n",
        "#!unzip /content/gdrive/MyDrive/kaggle/aptos2019-blindness-detection.zip -d /content/gdrive/MyDrive/kaggle/data \n",
        "!ls /content/gdrive/MyDrive/kaggle/data/"
      ],
      "execution_count": 4,
      "outputs": [
        {
          "output_type": "stream",
          "text": [
            " assets\t\t\t\t    model1-1.h5\n",
            " graph-model1-1acc.png\t\t    model2\n",
            " graph-model1-1loss.png\t\t    model2.h5\n",
            " graph-model1-acc.png\t\t    model2-submission.csv\n",
            " graph-model1-loss.png\t\t    preview\n",
            " graph-model2-acc.png\t\t    sample_submission.csv\n",
            " graph-model2-loss.png\t\t    saved_model.pb\n",
            " graph-model3-1acc.png\t\t   'submission (1).gsheet'\n",
            " graph-model3-1loss.png\t\t    submission.csv\n",
            " graph-model3-2acc.png\t\t    submission.gsheet\n",
            " graph-model3-2loss.png\t\t    test.csv\n",
            " graph-modelvgg16-mar23-1acc.png    test_images\n",
            " graph-modelvgg16-mar23-1loss.png   train.csv\n",
            " history.json\t\t\t    train_images\n",
            " history-model1-1.csv\t\t    variables\n",
            " model1\n"
          ],
          "name": "stdout"
        }
      ]
    },
    {
      "cell_type": "code",
      "metadata": {
        "colab": {
          "base_uri": "https://localhost:8080/"
        },
        "id": "aESIyXX6xiCE",
        "outputId": "c28a94f6-08a0-443c-bf48-79c81e0eadc7"
      },
      "source": [
        "import numpy as np # linear algebra\n",
        "import pandas as pd # data processing, CSV file I/O (e.g. pd.read_csv)\n",
        "\n",
        "import os\n",
        "print(os.listdir(\"/content/gdrive/MyDrive/kaggle/data\"))\n",
        "#https://www.kaggle.com/gkcsml1020/aptos-blindness-detection-basic-cnn/edit"
      ],
      "execution_count": 5,
      "outputs": [
        {
          "output_type": "stream",
          "text": [
            "['test.csv', 'sample_submission.csv', 'train.csv', 'test_images', 'train_images', 'submission (1).gsheet', 'preview', 'submission.gsheet', 'variables', 'assets', 'saved_model.pb', 'model1', 'graph-model1-acc.png', 'graph-model1-loss.png', 'model2', 'model1-1.h5', 'history.json', 'history-model1-1.csv', 'graph-model1-1acc.png', 'graph-model1-1loss.png', 'submission.csv', 'model2.h5', 'graph-model2-acc.png', 'graph-model2-loss.png', 'model2-submission.csv', 'graph-model3-2acc.png', 'graph-model3-2loss.png', 'graph-model3-1acc.png', 'graph-model3-1loss.png', 'graph-modelvgg16-mar23-1acc.png', 'graph-modelvgg16-mar23-1loss.png']\n"
          ],
          "name": "stdout"
        }
      ]
    },
    {
      "cell_type": "code",
      "metadata": {
        "id": "pT-HyzWNxpuO"
      },
      "source": [
        "import keras\n",
        "from keras.models import Sequential\n",
        "from keras.layers import Dense\n",
        "from keras.layers import Dropout, GaussianNoise, GaussianDropout\n",
        "from keras.layers import Flatten, BatchNormalization\n",
        "from keras.layers.convolutional import Conv2D, SeparableConv2D\n",
        "from keras.constraints import maxnorm\n",
        "from keras.layers.convolutional import MaxPooling2D\n",
        "from keras.utils import np_utils\n",
        "from keras import backend as K\n",
        "from keras import regularizers, optimizers\n",
        "from keras.optimizers import Adam"
      ],
      "execution_count": 6,
      "outputs": []
    },
    {
      "cell_type": "code",
      "metadata": {
        "id": "A441_ZHVxrbr"
      },
      "source": [
        "train_df = pd.read_csv('/content/gdrive/MyDrive/kaggle/data/train.csv')\n",
        "train_df['diagnosis'] = train_df['diagnosis'].astype('str')\n",
        "train_df['id_code'] = train_df['id_code'].astype(str)+'.png'"
      ],
      "execution_count": 7,
      "outputs": []
    },
    {
      "cell_type": "code",
      "metadata": {
        "colab": {
          "base_uri": "https://localhost:8080/"
        },
        "id": "Zr_923Z_4K3_",
        "outputId": "7d1a4d0f-3be3-48dc-a004-a47ee1461529"
      },
      "source": [
        "from keras.preprocessing.image import ImageDataGenerator\n",
        "\n",
        "datagen=ImageDataGenerator(\n",
        "    rescale=1./255, \n",
        "    validation_split=0.2,\n",
        "    shear_range=0.2,\n",
        "    zoom_range=0.2,\n",
        "    horizontal_flip=True)\n",
        "    #zca_whitening = True)\n",
        "\n",
        "batch_size = 16\n",
        "image_size = 224\n",
        "\n",
        "train_image_path = '/content/gdrive/MyDrive/kaggle/data/train_images'\n",
        "test_image_path = '/content/gdrive/MyDrive/kaggle/data/test_images'\n",
        "\n",
        "\n",
        "train_gen=datagen.flow_from_dataframe(\n",
        "    dataframe=train_df,\n",
        "    directory=train_image_path,\n",
        "    x_col=\"id_code\",\n",
        "    y_col=\"diagnosis\",\n",
        "    batch_size=batch_size,\n",
        "    shuffle=True,\n",
        "    class_mode=\"categorical\",\n",
        "    target_size=(image_size,image_size),\n",
        "    subset='training')\n",
        "\n",
        "test_gen=datagen.flow_from_dataframe(\n",
        "    dataframe=train_df,\n",
        "    directory=train_image_path,\n",
        "    x_col=\"id_code\",\n",
        "    y_col=\"diagnosis\",\n",
        "    batch_size=batch_size,\n",
        "    shuffle=True,\n",
        "    class_mode=\"categorical\", \n",
        "    target_size=(image_size,image_size),\n",
        "    subset='validation')\n"
      ],
      "execution_count": 8,
      "outputs": [
        {
          "output_type": "stream",
          "text": [
            "Found 2930 validated image filenames belonging to 5 classes.\n",
            "Found 732 validated image filenames belonging to 5 classes.\n"
          ],
          "name": "stdout"
        }
      ]
    },
    {
      "cell_type": "code",
      "metadata": {
        "id": "_yQQNNPrxz2L",
        "colab": {
          "base_uri": "https://localhost:8080/"
        },
        "outputId": "ab28cbf8-51de-4e04-a78c-f98d70a75848"
      },
      "source": [
        "train_df['id_code'].sample(1)"
      ],
      "execution_count": 9,
      "outputs": [
        {
          "output_type": "execute_result",
          "data": {
            "text/plain": [
              "372    1b495ac025b7.png\n",
              "Name: id_code, dtype: object"
            ]
          },
          "metadata": {
            "tags": []
          },
          "execution_count": 9
        }
      ]
    },
    {
      "cell_type": "code",
      "metadata": {
        "colab": {
          "base_uri": "https://localhost:8080/"
        },
        "id": "3_Uw7afTx1E8",
        "outputId": "694d9ad4-116f-481b-e920-9a26f2c1d4fa"
      },
      "source": [
        "import tensorflow as tf\n",
        "from tensorflow.keras.applications.vgg16 import VGG16\n",
        "from tensorflow.keras.preprocessing import image\n",
        "from tensorflow.keras.applications.vgg16 import preprocess_input\n",
        "import numpy as np\n",
        "vgg16_model = tf.keras.applications.vgg16.VGG16()"
      ],
      "execution_count": 10,
      "outputs": [
        {
          "output_type": "stream",
          "text": [
            "Downloading data from https://storage.googleapis.com/tensorflow/keras-applications/vgg16/vgg16_weights_tf_dim_ordering_tf_kernels.h5\n",
            "553467904/553467096 [==============================] - 4s 0us/step\n"
          ],
          "name": "stdout"
        }
      ]
    },
    {
      "cell_type": "code",
      "metadata": {
        "colab": {
          "base_uri": "https://localhost:8080/"
        },
        "id": "hoIJgFVux96k",
        "outputId": "46f94761-10b0-439d-a4ed-9e297f1f9538"
      },
      "source": [
        "vgg16_model.summary()"
      ],
      "execution_count": 11,
      "outputs": [
        {
          "output_type": "stream",
          "text": [
            "Model: \"vgg16\"\n",
            "_________________________________________________________________\n",
            "Layer (type)                 Output Shape              Param #   \n",
            "=================================================================\n",
            "input_1 (InputLayer)         [(None, 224, 224, 3)]     0         \n",
            "_________________________________________________________________\n",
            "block1_conv1 (Conv2D)        (None, 224, 224, 64)      1792      \n",
            "_________________________________________________________________\n",
            "block1_conv2 (Conv2D)        (None, 224, 224, 64)      36928     \n",
            "_________________________________________________________________\n",
            "block1_pool (MaxPooling2D)   (None, 112, 112, 64)      0         \n",
            "_________________________________________________________________\n",
            "block2_conv1 (Conv2D)        (None, 112, 112, 128)     73856     \n",
            "_________________________________________________________________\n",
            "block2_conv2 (Conv2D)        (None, 112, 112, 128)     147584    \n",
            "_________________________________________________________________\n",
            "block2_pool (MaxPooling2D)   (None, 56, 56, 128)       0         \n",
            "_________________________________________________________________\n",
            "block3_conv1 (Conv2D)        (None, 56, 56, 256)       295168    \n",
            "_________________________________________________________________\n",
            "block3_conv2 (Conv2D)        (None, 56, 56, 256)       590080    \n",
            "_________________________________________________________________\n",
            "block3_conv3 (Conv2D)        (None, 56, 56, 256)       590080    \n",
            "_________________________________________________________________\n",
            "block3_pool (MaxPooling2D)   (None, 28, 28, 256)       0         \n",
            "_________________________________________________________________\n",
            "block4_conv1 (Conv2D)        (None, 28, 28, 512)       1180160   \n",
            "_________________________________________________________________\n",
            "block4_conv2 (Conv2D)        (None, 28, 28, 512)       2359808   \n",
            "_________________________________________________________________\n",
            "block4_conv3 (Conv2D)        (None, 28, 28, 512)       2359808   \n",
            "_________________________________________________________________\n",
            "block4_pool (MaxPooling2D)   (None, 14, 14, 512)       0         \n",
            "_________________________________________________________________\n",
            "block5_conv1 (Conv2D)        (None, 14, 14, 512)       2359808   \n",
            "_________________________________________________________________\n",
            "block5_conv2 (Conv2D)        (None, 14, 14, 512)       2359808   \n",
            "_________________________________________________________________\n",
            "block5_conv3 (Conv2D)        (None, 14, 14, 512)       2359808   \n",
            "_________________________________________________________________\n",
            "block5_pool (MaxPooling2D)   (None, 7, 7, 512)         0         \n",
            "_________________________________________________________________\n",
            "flatten (Flatten)            (None, 25088)             0         \n",
            "_________________________________________________________________\n",
            "fc1 (Dense)                  (None, 4096)              102764544 \n",
            "_________________________________________________________________\n",
            "fc2 (Dense)                  (None, 4096)              16781312  \n",
            "_________________________________________________________________\n",
            "predictions (Dense)          (None, 1000)              4097000   \n",
            "=================================================================\n",
            "Total params: 138,357,544\n",
            "Trainable params: 138,357,544\n",
            "Non-trainable params: 0\n",
            "_________________________________________________________________\n"
          ],
          "name": "stdout"
        }
      ]
    },
    {
      "cell_type": "code",
      "metadata": {
        "id": "1kLgTWvzx__0"
      },
      "source": [
        "model = Sequential()\n",
        "for layer in vgg16_model.layers[:-1]:\n",
        "    model.add(layer)"
      ],
      "execution_count": 12,
      "outputs": []
    },
    {
      "cell_type": "code",
      "metadata": {
        "id": "vVSPDnlN12CQ"
      },
      "source": [
        "for layer in model.layers:\n",
        "    layer.trainable = False"
      ],
      "execution_count": 13,
      "outputs": []
    },
    {
      "cell_type": "code",
      "metadata": {
        "id": "k133uRgH2KAN"
      },
      "source": [
        "model.add(Dense(units=5, activation='softmax'))"
      ],
      "execution_count": 14,
      "outputs": []
    },
    {
      "cell_type": "code",
      "metadata": {
        "colab": {
          "base_uri": "https://localhost:8080/"
        },
        "id": "iJDXwk9l2Oss",
        "outputId": "175a5d3b-9321-441e-b165-d5e2be178b95"
      },
      "source": [
        "model.summary()"
      ],
      "execution_count": 15,
      "outputs": [
        {
          "output_type": "stream",
          "text": [
            "Model: \"sequential\"\n",
            "_________________________________________________________________\n",
            "Layer (type)                 Output Shape              Param #   \n",
            "=================================================================\n",
            "block1_conv1 (Conv2D)        (None, 224, 224, 64)      1792      \n",
            "_________________________________________________________________\n",
            "block1_conv2 (Conv2D)        (None, 224, 224, 64)      36928     \n",
            "_________________________________________________________________\n",
            "block1_pool (MaxPooling2D)   (None, 112, 112, 64)      0         \n",
            "_________________________________________________________________\n",
            "block2_conv1 (Conv2D)        (None, 112, 112, 128)     73856     \n",
            "_________________________________________________________________\n",
            "block2_conv2 (Conv2D)        (None, 112, 112, 128)     147584    \n",
            "_________________________________________________________________\n",
            "block2_pool (MaxPooling2D)   (None, 56, 56, 128)       0         \n",
            "_________________________________________________________________\n",
            "block3_conv1 (Conv2D)        (None, 56, 56, 256)       295168    \n",
            "_________________________________________________________________\n",
            "block3_conv2 (Conv2D)        (None, 56, 56, 256)       590080    \n",
            "_________________________________________________________________\n",
            "block3_conv3 (Conv2D)        (None, 56, 56, 256)       590080    \n",
            "_________________________________________________________________\n",
            "block3_pool (MaxPooling2D)   (None, 28, 28, 256)       0         \n",
            "_________________________________________________________________\n",
            "block4_conv1 (Conv2D)        (None, 28, 28, 512)       1180160   \n",
            "_________________________________________________________________\n",
            "block4_conv2 (Conv2D)        (None, 28, 28, 512)       2359808   \n",
            "_________________________________________________________________\n",
            "block4_conv3 (Conv2D)        (None, 28, 28, 512)       2359808   \n",
            "_________________________________________________________________\n",
            "block4_pool (MaxPooling2D)   (None, 14, 14, 512)       0         \n",
            "_________________________________________________________________\n",
            "block5_conv1 (Conv2D)        (None, 14, 14, 512)       2359808   \n",
            "_________________________________________________________________\n",
            "block5_conv2 (Conv2D)        (None, 14, 14, 512)       2359808   \n",
            "_________________________________________________________________\n",
            "block5_conv3 (Conv2D)        (None, 14, 14, 512)       2359808   \n",
            "_________________________________________________________________\n",
            "block5_pool (MaxPooling2D)   (None, 7, 7, 512)         0         \n",
            "_________________________________________________________________\n",
            "flatten (Flatten)            (None, 25088)             0         \n",
            "_________________________________________________________________\n",
            "fc1 (Dense)                  (None, 4096)              102764544 \n",
            "_________________________________________________________________\n",
            "fc2 (Dense)                  (None, 4096)              16781312  \n",
            "_________________________________________________________________\n",
            "dense (Dense)                (None, 5)                 20485     \n",
            "=================================================================\n",
            "Total params: 134,281,029\n",
            "Trainable params: 20,485\n",
            "Non-trainable params: 134,260,544\n",
            "_________________________________________________________________\n"
          ],
          "name": "stdout"
        }
      ]
    },
    {
      "cell_type": "code",
      "metadata": {
        "id": "I13rVGeY2osE"
      },
      "source": [
        "model.compile(optimizer=Adam(learning_rate=0.0001), loss='categorical_crossentropy', metrics=['accuracy'])"
      ],
      "execution_count": 16,
      "outputs": []
    },
    {
      "cell_type": "code",
      "metadata": {
        "colab": {
          "base_uri": "https://localhost:8080/"
        },
        "id": "1VMB-kxR33Yl",
        "outputId": "9fec42af-6e2d-4d90-b8ad-592a1a256c4d"
      },
      "source": [
        "history_vgg16 = model.fit(x=train_gen,\n",
        "          steps_per_epoch=len(train_gen),\n",
        "          validation_data=test_gen,\n",
        "          validation_steps=len(test_gen),\n",
        "          epochs=3,\n",
        "          verbose=2\n",
        ")\n",
        "\n",
        "hist_df = pd.DataFrame(history_vgg16.history) \n",
        "\n",
        "hist_csv_file = '/content/gdrive/MyDrive/kaggle/results/history-vgg16-mar23.csv'\n",
        "with open(hist_csv_file, mode='w') as f:\n",
        "    hist_df.to_csv(f)\n",
        "\n"
      ],
      "execution_count": null,
      "outputs": [
        {
          "output_type": "stream",
          "text": [
            "Epoch 1/3\n",
            "184/184 - 3205s - loss: 1.2260 - accuracy: 0.5328 - val_loss: 1.1538 - val_accuracy: 0.6434\n",
            "Epoch 2/3\n",
            "184/184 - 1968s - loss: 1.0589 - accuracy: 0.6232 - val_loss: 1.0510 - val_accuracy: 0.6284\n",
            "Epoch 3/3\n",
            "184/184 - 1979s - loss: 0.9962 - accuracy: 0.6577 - val_loss: 1.0194 - val_accuracy: 0.6079\n"
          ],
          "name": "stdout"
        }
      ]
    },
    {
      "cell_type": "code",
      "metadata": {
        "id": "vIcX8l6sF-Cp"
      },
      "source": [
        "history_df = pd.read_csv('/content/gdrive/MyDrive/kaggle/results/history-vgg16-mar23.csv')"
      ],
      "execution_count": null,
      "outputs": []
    },
    {
      "cell_type": "code",
      "metadata": {
        "colab": {
          "base_uri": "https://localhost:8080/",
          "height": 573
        },
        "id": "xtvIp7lRL-wa",
        "outputId": "816c1d5c-ad09-4cac-a501-3fcf5059b928"
      },
      "source": [
        "#plot learning curve \n",
        "#https://machinelearningmastery.com/learning-curves-for-diagnosing-machine-learning-model-performance/\n",
        "#Reviewing learning curves of models during training can be used to diagnose problems with learning, such as an underfit or overfit model,\n",
        "# as well as whether the training and validation datasets are suitably representative.\n",
        "import matplotlib.pyplot as plt\n",
        "plt.plot(history_df['accuracy'])\n",
        "plt.plot(history_df['val_accuracy'])\n",
        "plt.title('model accuracy')\n",
        "plt.ylabel('accuracy')\n",
        "plt.xlabel('epoch')\n",
        "plt.legend(['train', 'test'], loc='upper left')\n",
        "plt.savefig('/content/gdrive/MyDrive/kaggle/data/graph-modelvgg16-mar23-1acc')\n",
        "plt.show()\n",
        "# summarize history for loss\n",
        "plt.plot(history_df['loss'])\n",
        "plt.plot(history_df['val_loss'])\n",
        "plt.title('model loss')\n",
        "plt.ylabel('loss')\n",
        "plt.xlabel('epoch')\n",
        "plt.legend(['train', 'test'], loc='upper left')\n",
        "plt.savefig('/content/gdrive/MyDrive/kaggle/data/graph-modelvgg16-mar23-1loss')\n",
        "plt.show()"
      ],
      "execution_count": null,
      "outputs": [
        {
          "output_type": "display_data",
          "data": {
            "image/png": "[encoded data removed]",
            "text/plain": [
              "<Figure size 432x288 with 1 Axes>"
            ]
          },
          "metadata": {
            "tags": [],
            "needs_background": "light"
          }
        },
        {
          "output_type": "display_data",
          "data": {
            "image/png": "[encoded data removed]",
            "text/plain": [
              "<Figure size 432x288 with 1 Axes>"
            ]
          },
          "metadata": {
            "tags": [],
            "needs_background": "light"
          }
        }
      ]
    },
    {
      "cell_type": "markdown",
      "metadata": {
        "id": "CwDc6tWgM4Jx"
      },
      "source": [
        "Learning curves are plots that show changes in learning performance over time in terms of experience.\n",
        "Learning curves of model performance on the train and validation datasets can be used to diagnose an underfit, overfit, or well-fit model.\n",
        "Learning curves of model performance can be used to diagnose whether the train or validation datasets are not relatively representative of the problem domain.\n",
        "\n",
        "Underfit : the model is able to obtain a sufficiently low error  value on the training dataset and has scope for improvement. More epochs can give better answers.\n",
        "\n",
        "\n",
        "Overfit: measured by performance of the model on the validation set . The plot of training loss decreases over time and the validation loss decreases to a certain point and begins increasing again. The inflection point in the validation plot could be the point where training could be halted.\n",
        "Again, more epoch can help give better answers.\n",
        "\n",
        "Good fit : The training and validation loss  does not decrease to a point of stability with a minimal gap between the training and validation plots.\n",
        "More epochs can help determine good fit. The loss on the training set is less than the loss on the validation set. \n",
        "\n",
        "The training and validation datasets were generated from the train dataset and all images are representative examples. We can rule out unrepresentative datasets. \n",
        "\n",
        "The conclusion is that we need to train the data on more epochs.\n",
        "We can\n",
        "1. consider 5 or 10 epochs \n",
        "2. use early stopping on the loss metric and mode checkpoint to save best weights\n",
        "\n",
        "\n"
      ]
    },
    {
      "cell_type": "code",
      "metadata": {
        "id": "qW2GoI_tT31k"
      },
      "source": [
        "from keras.preprocessing.image import load_img\n",
        "# load an image from file\n",
        "image = load_img('/content/gdrive/MyDrive/kaggle/data/train_images/0abf0c485f66.png', target_size=(224, 224))"
      ],
      "execution_count": null,
      "outputs": []
    },
    {
      "cell_type": "code",
      "metadata": {
        "colab": {
          "base_uri": "https://localhost:8080/"
        },
        "id": "0gGxI9aST9Dg",
        "outputId": "7b0a4886-dc9f-4f0f-be38-1dbcc4886e23"
      },
      "source": [
        "submission_df = pd.read_csv('/content/gdrive/MyDrive/kaggle/data/sample_submission.csv')\n",
        "#submission_df['diagnosis'] = submission_df['diagnosis'].astype('str')\n",
        "submission_df['id_code'] = submission_df['id_code'].astype(str)+'.png'\n",
        "#test dataset \n",
        "\n",
        "\n",
        "sub_image_path = '/content/gdrive/MyDrive/kaggle/data/test_images'\n",
        "submission_datagen=ImageDataGenerator(rescale=1./255)\n",
        "submission_gen=submission_datagen.flow_from_dataframe(\n",
        "    dataframe=submission_df,\n",
        "    directory=sub_image_path,\n",
        "    x_col=\"id_code\",    \n",
        "    batch_size=batch_size,\n",
        "    shuffle=True,\n",
        "    class_mode=None,\n",
        "    target_size=(image_size,image_size))\n"
      ],
      "execution_count": null,
      "outputs": [
        {
          "output_type": "stream",
          "text": [
            "Found 1928 validated image filenames.\n"
          ],
          "name": "stdout"
        }
      ]
    },
    {
      "cell_type": "code",
      "metadata": {
        "colab": {
          "base_uri": "https://localhost:8080/"
        },
        "id": "iOEScQBaW-rS",
        "outputId": "68e54356-aa31-4014-c8cd-deb8fa85abe4"
      },
      "source": [
        "# predict the probability across all output classes\n",
        "STEP_SIZE_TEST=submission_gen.n//submission_gen.batch_size\n",
        "submission_gen.reset()\n",
        "pred=model.predict_generator(submission_gen,\n",
        "steps=STEP_SIZE_TEST,\n",
        "verbose=1)"
      ],
      "execution_count": null,
      "outputs": [
        {
          "output_type": "stream",
          "text": [
            "/usr/local/lib/python3.7/dist-packages/tensorflow/python/keras/engine/training.py:1905: UserWarning: `Model.predict_generator` is deprecated and will be removed in a future version. Please use `Model.predict`, which supports generators.\n",
            "  warnings.warn('`Model.predict_generator` is deprecated and '\n"
          ],
          "name": "stderr"
        },
        {
          "output_type": "stream",
          "text": [
            "120/120 [==============================] - 824s 7s/step\n"
          ],
          "name": "stdout"
        }
      ]
    },
    {
      "cell_type": "code",
      "metadata": {
        "id": "ymUVHCylllGV"
      },
      "source": [
        "predicted_class_indices=np.argmax(pred,axis=1)"
      ],
      "execution_count": null,
      "outputs": []
    },
    {
      "cell_type": "code",
      "metadata": {
        "colab": {
          "base_uri": "https://localhost:8080/"
        },
        "id": "oJ99aExGqzfo",
        "outputId": "c2081980-d7d6-435a-8858-e5173840b9db"
      },
      "source": [
        "predicted_class_indices.size"
      ],
      "execution_count": null,
      "outputs": [
        {
          "output_type": "execute_result",
          "data": {
            "text/plain": [
              "1920"
            ]
          },
          "metadata": {
            "tags": []
          },
          "execution_count": 64
        }
      ]
    },
    {
      "cell_type": "code",
      "metadata": {
        "id": "tUkor1-3lhVw"
      },
      "source": [
        "labels = (train_gen.class_indices)\n",
        "labels = dict((v,k) for k,v in labels.items())\n",
        "labels\n",
        "predictions = [labels[k] for k in predicted_class_indices]"
      ],
      "execution_count": null,
      "outputs": []
    },
    {
      "cell_type": "code",
      "metadata": {
        "colab": {
          "base_uri": "https://localhost:8080/"
        },
        "id": "XuwWhcGutc-R",
        "outputId": "b25b2a53-1194-4a1b-9b5b-931039ad2a86"
      },
      "source": [
        "len(predictions)"
      ],
      "execution_count": null,
      "outputs": [
        {
          "output_type": "execute_result",
          "data": {
            "text/plain": [
              "1920"
            ]
          },
          "metadata": {
            "tags": []
          },
          "execution_count": 80
        }
      ]
    },
    {
      "cell_type": "code",
      "metadata": {
        "colab": {
          "base_uri": "https://localhost:8080/"
        },
        "id": "wLKAw_5AnfRu",
        "outputId": "a2770cb1-be40-4888-d954-cf6261f27e01"
      },
      "source": [
        "#model predicts every image as a 1 \n",
        "\n",
        "from numpy import array \n",
        "filenames = submission_gen.filenames\n",
        "filenames[0]\n",
        "print(type(filenames))\n",
        "filenames = array(filenames)\n",
        "print(type(filenames))\n",
        "\n",
        "filenames = filenames[0:1920]\n",
        "\n"
      ],
      "execution_count": null,
      "outputs": [
        {
          "output_type": "stream",
          "text": [
            "<class 'list'>\n",
            "<class 'numpy.ndarray'>\n"
          ],
          "name": "stdout"
        }
      ]
    },
    {
      "cell_type": "code",
      "metadata": {
        "colab": {
          "base_uri": "https://localhost:8080/",
          "height": 359
        },
        "id": "0-lwL5FctOl6",
        "outputId": "8c0f981d-d308-455e-8055-ec86815c4dd1"
      },
      "source": [
        "results = pd.DataFrame({'id_code':filenames, 'diagnosis':predictions})\n",
        "results['id_code'] = results['id_code'].map(lambda x: str(x)[:-4])\n",
        "results.to_csv('/content/gdrive/MyDrive/kaggle/submission-vgg16.csv',index=False)\n",
        "results.head(10)"
      ],
      "execution_count": null,
      "outputs": [
        {
          "output_type": "execute_result",
          "data": {
            "text/html": [
              "<div>\n",
              "<style scoped>\n",
              "    .dataframe tbody tr th:only-of-type {\n",
              "        vertical-align: middle;\n",
              "    }\n",
              "\n",
              "    .dataframe tbody tr th {\n",
              "        vertical-align: top;\n",
              "    }\n",
              "\n",
              "    .dataframe thead th {\n",
              "        text-align: right;\n",
              "    }\n",
              "</style>\n",
              "<table border=\"1\" class=\"dataframe\">\n",
              "  <thead>\n",
              "    <tr style=\"text-align: right;\">\n",
              "      <th></th>\n",
              "      <th>id_code</th>\n",
              "      <th>diagnosis</th>\n",
              "    </tr>\n",
              "  </thead>\n",
              "  <tbody>\n",
              "    <tr>\n",
              "      <th>0</th>\n",
              "      <td>0005cfc8afb6</td>\n",
              "      <td>1</td>\n",
              "    </tr>\n",
              "    <tr>\n",
              "      <th>1</th>\n",
              "      <td>003f0afdcd15</td>\n",
              "      <td>1</td>\n",
              "    </tr>\n",
              "    <tr>\n",
              "      <th>2</th>\n",
              "      <td>006efc72b638</td>\n",
              "      <td>1</td>\n",
              "    </tr>\n",
              "    <tr>\n",
              "      <th>3</th>\n",
              "      <td>00836aaacf06</td>\n",
              "      <td>1</td>\n",
              "    </tr>\n",
              "    <tr>\n",
              "      <th>4</th>\n",
              "      <td>009245722fa4</td>\n",
              "      <td>1</td>\n",
              "    </tr>\n",
              "    <tr>\n",
              "      <th>5</th>\n",
              "      <td>009c019a7309</td>\n",
              "      <td>1</td>\n",
              "    </tr>\n",
              "    <tr>\n",
              "      <th>6</th>\n",
              "      <td>010d915e229a</td>\n",
              "      <td>1</td>\n",
              "    </tr>\n",
              "    <tr>\n",
              "      <th>7</th>\n",
              "      <td>0111b949947e</td>\n",
              "      <td>1</td>\n",
              "    </tr>\n",
              "    <tr>\n",
              "      <th>8</th>\n",
              "      <td>01499815e469</td>\n",
              "      <td>1</td>\n",
              "    </tr>\n",
              "    <tr>\n",
              "      <th>9</th>\n",
              "      <td>0167076e7089</td>\n",
              "      <td>1</td>\n",
              "    </tr>\n",
              "  </tbody>\n",
              "</table>\n",
              "</div>"
            ],
            "text/plain": [
              "        id_code diagnosis\n",
              "0  0005cfc8afb6         1\n",
              "1  003f0afdcd15         1\n",
              "2  006efc72b638         1\n",
              "3  00836aaacf06         1\n",
              "4  009245722fa4         1\n",
              "5  009c019a7309         1\n",
              "6  010d915e229a         1\n",
              "7  0111b949947e         1\n",
              "8  01499815e469         1\n",
              "9  0167076e7089         1"
            ]
          },
          "metadata": {
            "tags": []
          },
          "execution_count": 90
        }
      ]
    },
    {
      "cell_type": "code",
      "metadata": {
        "id": "mNRDVvxfpM4Z"
      },
      "source": [
        "from google.colab import auth\n",
        "auth.authenticate_user()"
      ],
      "execution_count": 31,
      "outputs": []
    },
    {
      "cell_type": "code",
      "metadata": {
        "id": "of52K9HbpSHn",
        "colab": {
          "base_uri": "https://localhost:8080/"
        },
        "outputId": "3519909a-4581-4174-a0fc-3aac515dc560"
      },
      "source": [
        "CLOUD_PROJECT = 'vgg16_model_308919'\n",
        "BUCKET = 'gs://' + CLOUD_PROJECT\n",
        "\n",
        "!gcloud config set project vgg16-model-308919\n",
        "\n",
        "!gsutil mb $BUCKET\n",
        "print(BUCKET)\n",
        "\n"
      ],
      "execution_count": 33,
      "outputs": [
        {
          "output_type": "stream",
          "text": [
            "Updated property [core/project].\n",
            "Creating gs://vgg16_model_308919/...\n",
            "ServiceException: 409 A Cloud Storage bucket named 'vgg16_model_308919' already exists. Try another name. Bucket names must be globally unique across all Google Cloud projects, including those outside of your organization.\n",
            "gs://vgg16_model_308919\n"
          ],
          "name": "stdout"
        }
      ]
    },
    {
      "cell_type": "code",
      "metadata": {
        "id": "XZvorzxq6RRR"
      },
      "source": [
        ""
      ],
      "execution_count": null,
      "outputs": []
    },
    {
      "cell_type": "code",
      "metadata": {
        "colab": {
          "base_uri": "https://localhost:8080/"
        },
        "id": "SPfmvNI62geq",
        "outputId": "03070825-9152-4a5a-b5a5-96a00b5aff6c"
      },
      "source": [
        "model.save(BUCKET, save_format='tf')\n",
        "#MODEL = 'vgg16mar23'\n",
        "#!gcloud ai-platform models create $MODEL --regions=us-central1"
      ],
      "execution_count": 34,
      "outputs": [
        {
          "output_type": "stream",
          "text": [
            "INFO:tensorflow:Assets written to: gs://vgg16_model_308919/assets\n"
          ],
          "name": "stdout"
        }
      ]
    },
    {
      "cell_type": "code",
      "metadata": {
        "colab": {
          "base_uri": "https://localhost:8080/"
        },
        "id": "V5q5oRa43Lyv",
        "outputId": "cfabc2db-4a44-4a96-f513-dfa134e0e2cc"
      },
      "source": [
        "MODEL = 'vgg16_model_308919'\n",
        "!gcloud ai-platform models create $MODEL --regions=us-central1\n"
      ],
      "execution_count": 40,
      "outputs": [
        {
          "output_type": "stream",
          "text": [
            "Using endpoint [https://ml.googleapis.com/]\n",
            "Created ai platform model [projects/vgg16-model-308919/models/vgg16_model_308919].\n"
          ],
          "name": "stdout"
        }
      ]
    },
    {
      "cell_type": "code",
      "metadata": {
        "id": "9w_iFiix3nV3"
      },
      "source": [
        "VERSION = 'v1'\n",
        "MODEL_DIR = BUCKET + '/vgg16_model_308919'"
      ],
      "execution_count": 37,
      "outputs": []
    },
    {
      "cell_type": "code",
      "metadata": {
        "id": "WrRGAo1LimND"
      },
      "source": [
        "/content/gdrive/MyDrive/kaggle/data/"
      ],
      "execution_count": null,
      "outputs": []
    },
    {
      "cell_type": "markdown",
      "metadata": {
        "id": "fRU83deKMV_y"
      },
      "source": [
        "Fine tuned a pretrained vgg16 model to predict the class of images "
      ]
    }
  ]
}